{
 "cells": [
  {
   "cell_type": "markdown",
   "id": "894a4f16",
   "metadata": {},
   "source": [
    "https://flask.palletsprojects.com/en/2.3.x/quickstart/"
   ]
  },
  {
   "cell_type": "code",
   "execution_count": 1,
   "id": "0697466d",
   "metadata": {
    "ExecuteTime": {
     "end_time": "2024-01-01T17:30:08.443291Z",
     "start_time": "2024-01-01T17:30:05.525657Z"
    }
   },
   "outputs": [
    {
     "name": "stdout",
     "output_type": "stream",
     "text": [
      "Requirement already satisfied: Flask in c:\\users\\aland\\anaconda3\\envs\\pythonandr\\lib\\site-packages (2.0.1)\n",
      "Requirement already satisfied: click>=7.1.2 in c:\\users\\aland\\anaconda3\\envs\\pythonandr\\lib\\site-packages (from Flask) (8.1.7)\n",
      "Requirement already satisfied: Werkzeug>=2.0 in c:\\users\\aland\\anaconda3\\envs\\pythonandr\\lib\\site-packages (from Flask) (2.0.1)\n",
      "Requirement already satisfied: Jinja2>=3.0 in c:\\users\\aland\\anaconda3\\envs\\pythonandr\\lib\\site-packages (from Flask) (3.0.1)\n",
      "Requirement already satisfied: itsdangerous>=2.0 in c:\\users\\aland\\anaconda3\\envs\\pythonandr\\lib\\site-packages (from Flask) (2.0.1)\n",
      "Requirement already satisfied: colorama in c:\\users\\aland\\anaconda3\\envs\\pythonandr\\lib\\site-packages (from click>=7.1.2->Flask) (0.4.4)\n",
      "Requirement already satisfied: MarkupSafe>=2.0 in c:\\users\\aland\\anaconda3\\envs\\pythonandr\\lib\\site-packages (from Jinja2>=3.0->Flask) (2.0.1)\n"
     ]
    },
    {
     "name": "stderr",
     "output_type": "stream",
     "text": [
      "WARNING: Ignoring invalid distribution -illow (c:\\users\\aland\\anaconda3\\envs\\pythonandr\\lib\\site-packages)\n",
      "WARNING: Ignoring invalid distribution -illow (c:\\users\\aland\\anaconda3\\envs\\pythonandr\\lib\\site-packages)\n",
      "WARNING: Ignoring invalid distribution -illow (c:\\users\\aland\\anaconda3\\envs\\pythonandr\\lib\\site-packages)\n",
      "WARNING: Ignoring invalid distribution -illow (c:\\users\\aland\\anaconda3\\envs\\pythonandr\\lib\\site-packages)\n",
      "WARNING: Ignoring invalid distribution -illow (c:\\users\\aland\\anaconda3\\envs\\pythonandr\\lib\\site-packages)\n",
      "WARNING: Ignoring invalid distribution -illow (c:\\users\\aland\\anaconda3\\envs\\pythonandr\\lib\\site-packages)\n"
     ]
    }
   ],
   "source": [
    "!pip install Flask"
   ]
  },
  {
   "cell_type": "code",
   "execution_count": 2,
   "id": "920eb67b",
   "metadata": {
    "ExecuteTime": {
     "end_time": "2024-01-01T17:30:08.769995Z",
     "start_time": "2024-01-01T17:30:08.444257Z"
    }
   },
   "outputs": [],
   "source": [
    "from flask import Flask, request, jsonify,render_template\n",
    "import logging\n",
    "app = Flask(__name__)\n",
    "logger = logging.getLogger(__name__)\n",
    "logger.setLevel(logging.INFO)\n",
    "\n",
    "@app.route(\"/\")\n",
    "def hello_world():\n",
    "    logger.debug(\"Enter Hello World\")\n",
    "    return render_template('index.html')"
   ]
  },
  {
   "cell_type": "code",
   "execution_count": 3,
   "id": "b4332682",
   "metadata": {
    "ExecuteTime": {
     "end_time": "2024-01-01T17:30:08.785615Z",
     "start_time": "2024-01-01T17:30:08.770987Z"
    }
   },
   "outputs": [],
   "source": [
    "# from https://stackoverflow.com/questions/15411967/how-can-i-check-if-code-is-executed-in-the-ipython-notebook\n",
    "import os\n",
    "import platform\n",
    "def is_notebook() -> bool:\n",
    "    try:\n",
    "        print(os.name)\n",
    "        print(platform.system())\n",
    "        shell = get_ipython().__class__.__name__\n",
    "        logger.debug(f\"shell = {shell}\")\n",
    "        print (shell)\n",
    "        if shell == 'ZMQInteractiveShell':\n",
    "            return True   # Jupyter notebook or qtconsole\n",
    "        elif shell == 'TerminalInteractiveShell':\n",
    "            return False  # Terminal running IPython\n",
    "        else:\n",
    "            return False  # Other type (?)\n",
    "    except NameError:\n",
    "        return False      # Probably standard Python interpreter"
   ]
  },
  {
   "cell_type": "code",
   "execution_count": null,
   "id": "2da02724",
   "metadata": {
    "ExecuteTime": {
     "start_time": "2024-01-01T17:30:05.516Z"
    }
   },
   "outputs": [
    {
     "name": "stdout",
     "output_type": "stream",
     "text": [
      "nt\n",
      "Windows\n",
      "ZMQInteractiveShell\n",
      "running under Jupyter\n",
      " * Serving Flask app '__main__' (lazy loading)\n",
      " * Environment: production\n",
      "\u001b[31m   WARNING: This is a development server. Do not use it in a production deployment.\u001b[0m\n",
      "\u001b[2m   Use a production WSGI server instead.\u001b[0m\n",
      " * Debug mode: off\n"
     ]
    },
    {
     "name": "stderr",
     "output_type": "stream",
     "text": [
      " * Running on http://127.0.0.1:5000/ (Press CTRL+C to quit)\n",
      "127.0.0.1 - - [01/Jan/2024 12:30:10] \"GET / HTTP/1.1\" 200 -\n",
      "127.0.0.1 - - [01/Jan/2024 12:30:11] \"GET /static/css/style.css HTTP/1.1\" 304 -\n"
     ]
    }
   ],
   "source": [
    "if is_notebook():\n",
    "    print(\"running under Jupyter\")\n",
    "    app.run()"
   ]
  },
  {
   "cell_type": "code",
   "execution_count": null,
   "id": "2be09a55",
   "metadata": {
    "ExecuteTime": {
     "start_time": "2024-01-01T17:30:05.517Z"
    }
   },
   "outputs": [],
   "source": [
    "!nohup ssh -p 443 -o StrictHostKeyChecking=no -R0:localhost:5000 a.pinggy.io -T &"
   ]
  },
  {
   "cell_type": "code",
   "execution_count": null,
   "id": "2ecc8752",
   "metadata": {
    "ExecuteTime": {
     "start_time": "2024-01-01T17:30:05.518Z"
    }
   },
   "outputs": [],
   "source": [
    "!cat nohup.out"
   ]
  }
 ],
 "metadata": {
  "kernelspec": {
   "display_name": "Python [conda env:PythonAndR]",
   "language": "python",
   "name": "conda-env-PythonAndR-py"
  },
  "language_info": {
   "codemirror_mode": {
    "name": "ipython",
    "version": 3
   },
   "file_extension": ".py",
   "mimetype": "text/x-python",
   "name": "python",
   "nbconvert_exporter": "python",
   "pygments_lexer": "ipython3",
   "version": "3.8.10"
  },
  "toc": {
   "base_numbering": 1,
   "nav_menu": {},
   "number_sections": true,
   "sideBar": true,
   "skip_h1_title": false,
   "title_cell": "Table of Contents",
   "title_sidebar": "Contents",
   "toc_cell": false,
   "toc_position": {},
   "toc_section_display": true,
   "toc_window_display": false
  }
 },
 "nbformat": 4,
 "nbformat_minor": 5
}

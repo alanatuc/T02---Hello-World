{
 "cells": [
  {
   "cell_type": "markdown",
   "id": "894a4f16",
   "metadata": {
    "id": "894a4f16"
   },
   "source": [
    "https://flask.palletsprojects.com/en/2.3.x/quickstart/"
   ]
  },
  {
   "cell_type": "markdown",
   "id": "afe86cbe-b3c4-436f-b6de-66a85e1fb23c",
   "metadata": {
    "id": "afe86cbe-b3c4-436f-b6de-66a85e1fb23c"
   },
   "source": [
    "Determine if we are running in Jupyter, if so we will call app.run directly.\n",
    "from https://stackoverflow.com/questions/15411967/how-can-i-check-if-code-is-executed-in-the-ipython-notebook"
   ]
  },
  {
   "cell_type": "code",
   "execution_count": 9,
   "id": "b4332682",
   "metadata": {
    "ExecuteTime": {
     "end_time": "2024-01-01T19:25:59.683579Z",
     "start_time": "2024-01-01T19:25:59.677610Z"
    },
    "colab": {
     "base_uri": "https://localhost:8080/"
    },
    "executionInfo": {
     "elapsed": 24,
     "status": "ok",
     "timestamp": 1704136493142,
     "user": {
      "displayName": "Alan Dennis",
      "userId": "03680260694837154017"
     },
     "user_tz": 300
    },
    "id": "b4332682",
    "outputId": "4887342c-00e3-4fd5-f751-c156992bee1c"
   },
   "outputs": [
    {
     "name": "stdout",
     "output_type": "stream",
     "text": [
      "nt\n",
      "Windows\n",
      "Is windows\n",
      "Running under Jupyter\n"
     ]
    }
   ],
   "source": [
    "import os\n",
    "import platform\n",
    "def is_notebook() -> bool:\n",
    "    try:\n",
    "        print(os.name)\n",
    "        print(platform.system())\n",
    "        if platform.system() == \"Windows\":\n",
    "            print(\"Is windows\")\n",
    "            return True\n",
    "        shell = get_ipython().__class__.__name__\n",
    "        logger.debug(f\"shell = {shell}\")\n",
    "        print (\"Shell = \" + shell)\n",
    "        if shell == 'ZMQInteractiveShell':\n",
    "            return True   # Jupyter notebook or qtconsole\n",
    "        elif shell == 'TerminalInteractiveShell':\n",
    "            return False  # Terminal running IPython\n",
    "        else:\n",
    "            return False  # Other type (?)\n",
    "    except NameError:\n",
    "        print(\"NameError Exception\")\n",
    "        return False      # Probably standard Python interpreter\n",
    "isNotebook = is_notebook()\n",
    "if isNotebook:\n",
    "  print(\"Running under Jupyter\")"
   ]
  },
  {
   "cell_type": "code",
   "execution_count": 10,
   "id": "0697466d",
   "metadata": {
    "ExecuteTime": {
     "end_time": "2024-01-01T19:26:17.387148Z",
     "start_time": "2024-01-01T19:26:14.324132Z"
    },
    "colab": {
     "base_uri": "https://localhost:8080/"
    },
    "id": "0697466d",
    "outputId": "98569a97-d878-4f7a-e61d-5aa42d1343dc"
   },
   "outputs": [
    {
     "name": "stdout",
     "output_type": "stream",
     "text": [
      "Requirement already satisfied: Flask in c:\\users\\aland\\anaconda3\\envs\\pythonandr\\lib\\site-packages (2.0.1)\n",
      "Requirement already satisfied: itsdangerous>=2.0 in c:\\users\\aland\\anaconda3\\envs\\pythonandr\\lib\\site-packages (from Flask) (2.0.1)\n",
      "Requirement already satisfied: Werkzeug>=2.0 in c:\\users\\aland\\anaconda3\\envs\\pythonandr\\lib\\site-packages (from Flask) (2.0.1)\n",
      "Requirement already satisfied: click>=7.1.2 in c:\\users\\aland\\anaconda3\\envs\\pythonandr\\lib\\site-packages (from Flask) (8.1.7)\n",
      "Requirement already satisfied: Jinja2>=3.0 in c:\\users\\aland\\anaconda3\\envs\\pythonandr\\lib\\site-packages (from Flask) (3.1.2)\n",
      "Requirement already satisfied: colorama in c:\\users\\aland\\anaconda3\\envs\\pythonandr\\lib\\site-packages (from click>=7.1.2->Flask) (0.4.4)\n",
      "Requirement already satisfied: MarkupSafe>=2.0 in c:\\users\\aland\\anaconda3\\envs\\pythonandr\\lib\\site-packages (from Jinja2>=3.0->Flask) (2.0.1)\n"
     ]
    },
    {
     "name": "stderr",
     "output_type": "stream",
     "text": [
      "WARNING: Ignoring invalid distribution -illow (c:\\users\\aland\\anaconda3\\envs\\pythonandr\\lib\\site-packages)\n",
      "WARNING: Ignoring invalid distribution -illow (c:\\users\\aland\\anaconda3\\envs\\pythonandr\\lib\\site-packages)\n",
      "WARNING: Ignoring invalid distribution -illow (c:\\users\\aland\\anaconda3\\envs\\pythonandr\\lib\\site-packages)\n",
      "WARNING: Ignoring invalid distribution -illow (c:\\users\\aland\\anaconda3\\envs\\pythonandr\\lib\\site-packages)\n",
      "WARNING: Ignoring invalid distribution -illow (c:\\users\\aland\\anaconda3\\envs\\pythonandr\\lib\\site-packages)\n",
      "WARNING: Ignoring invalid distribution -illow (c:\\users\\aland\\anaconda3\\envs\\pythonandr\\lib\\site-packages)\n"
     ]
    }
   ],
   "source": [
    "!pip install Flask"
   ]
  },
  {
   "cell_type": "code",
   "execution_count": 11,
   "id": "8z1O5I6iWmb-",
   "metadata": {
    "ExecuteTime": {
     "end_time": "2024-01-01T19:26:17.403162Z",
     "start_time": "2024-01-01T19:26:17.389130Z"
    },
    "id": "8z1O5I6iWmb-"
   },
   "outputs": [],
   "source": [
    "import os\n",
    "import inspect\n",
    "\n",
    "TEMPLATE_PATH = None\n",
    "if isNotebook == False:\n",
    "  from google.colab import drive\n",
    "  try :\n",
    "    drive.mount('/content/drive')\n",
    "  except:\n",
    "    pass\n",
    "\n",
    "  if hasattr(globals(),'__file__') == False:\n",
    "    TEMPLATE_PATH = '/content/drive/MyDrive/Colab Notebooks/MSAI 631/T02 - Hello World/templates/'\n",
    "    print (TEMPLATE_PATH)\n",
    "  else:\n",
    "    print(__file__)\n",
    "\n",
    "\n",
    "#print(TEMPLATE_PATH)\n",
    "\n"
   ]
  },
  {
   "cell_type": "code",
   "execution_count": 12,
   "id": "920eb67b",
   "metadata": {
    "ExecuteTime": {
     "end_time": "2024-01-01T19:26:29.002877Z",
     "start_time": "2024-01-01T19:26:28.692832Z"
    },
    "id": "920eb67b"
   },
   "outputs": [
    {
     "name": "stdout",
     "output_type": "stream",
     "text": [
      "Not setting Template Path since we aren't running in Colab\n"
     ]
    }
   ],
   "source": [
    "from flask import Flask, request, jsonify,render_template\n",
    "import logging\n",
    "if TEMPLATE_PATH is None:\n",
    "  print(\"Not setting Template Path since we aren't running in Colab\")\n",
    "  app = Flask(__name__)\n",
    "else:\n",
    "  app = Flask(__name__,template_folder=TEMPLATE_PATH,static_folder = TEMPLATE_PATH.replace(\"/templates/\",\"/static/\"))\n",
    "logger = logging.getLogger(__name__)\n",
    "logger.setLevel(logging.INFO)\n",
    "\n",
    "# Setup one route\n",
    "@app.route(\"/\")\n",
    "def hello_world():\n",
    "    logger.debug(\"Enter Hello World\")\n",
    "    return render_template('index.html')"
   ]
  },
  {
   "cell_type": "code",
   "execution_count": null,
   "id": "2da02724",
   "metadata": {
    "ExecuteTime": {
     "start_time": "2024-01-01T19:26:29.017Z"
    },
    "id": "2da02724"
   },
   "outputs": [
    {
     "name": "stdout",
     "output_type": "stream",
     "text": [
      "nt\n",
      "Windows\n",
      "Is windows\n",
      "running under Jupyter\n",
      " * Serving Flask app '__main__' (lazy loading)\n",
      " * Environment: production\n",
      "\u001b[31m   WARNING: This is a development server. Do not use it in a production deployment.\u001b[0m\n",
      "\u001b[2m   Use a production WSGI server instead.\u001b[0m\n",
      " * Debug mode: off\n"
     ]
    },
    {
     "name": "stderr",
     "output_type": "stream",
     "text": [
      " * Running on http://127.0.0.1:5000/ (Press CTRL+C to quit)\n"
     ]
    }
   ],
   "source": [
    "# if we are running in Jupyter, run directly. Otherwise, use pinggy in the following cells.\n",
    "if is_notebook():\n",
    "    print(\"running under Jupyter\")\n",
    "    app.run()"
   ]
  },
  {
   "cell_type": "code",
   "execution_count": null,
   "id": "2be09a55",
   "metadata": {
    "ExecuteTime": {
     "start_time": "2024-01-01T17:30:05.517Z"
    },
    "id": "2be09a55"
   },
   "outputs": [],
   "source": [
    "!nohup ssh -p 443 -o StrictHostKeyChecking=no -R0:localhost:5000 a.pinggy.io -T &"
   ]
  },
  {
   "cell_type": "code",
   "execution_count": null,
   "id": "2ecc8752",
   "metadata": {
    "ExecuteTime": {
     "start_time": "2024-01-01T17:30:05.518Z"
    },
    "id": "2ecc8752"
   },
   "outputs": [],
   "source": [
    "!cat nohup.out"
   ]
  },
  {
   "cell_type": "code",
   "execution_count": null,
   "id": "rx01-ZWhVXhz",
   "metadata": {
    "id": "rx01-ZWhVXhz"
   },
   "outputs": [],
   "source": [
    "app.run()"
   ]
  },
  {
   "cell_type": "code",
   "execution_count": null,
   "id": "OU_lS2DTVhs0",
   "metadata": {
    "id": "OU_lS2DTVhs0"
   },
   "outputs": [],
   "source": []
  }
 ],
 "metadata": {
  "colab": {
   "provenance": []
  },
  "kernelspec": {
   "display_name": "Python [conda env:PythonAndR] *",
   "language": "python",
   "name": "conda-env-PythonAndR-py"
  },
  "language_info": {
   "codemirror_mode": {
    "name": "ipython",
    "version": 3
   },
   "file_extension": ".py",
   "mimetype": "text/x-python",
   "name": "python",
   "nbconvert_exporter": "python",
   "pygments_lexer": "ipython3",
   "version": "3.8.10"
  },
  "toc": {
   "base_numbering": 1,
   "nav_menu": {},
   "number_sections": true,
   "sideBar": true,
   "skip_h1_title": false,
   "title_cell": "Table of Contents",
   "title_sidebar": "Contents",
   "toc_cell": false,
   "toc_position": {},
   "toc_section_display": true,
   "toc_window_display": false
  }
 },
 "nbformat": 4,
 "nbformat_minor": 5
}
